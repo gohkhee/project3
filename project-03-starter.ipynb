{
 "cells": [
  {
   "cell_type": "markdown",
   "metadata": {},
   "source": [
    "<img src=\"http://imgur.com/1ZcRyrc.png\" style=\"float: left; margin: 15px; height: 80px\">\n",
    "\n",
    "# Project 3\n",
    "\n",
    "### Regression and Classification with the Ames Housing Data\n",
    "\n",
    "---\n",
    "\n",
    "You have just joined a new \"full stack\" real estate company in Ames, Iowa. The strategy of the firm is two-fold:\n",
    "- Own the entire process from the purchase of the land all the way to sale of the house, and anything in between.\n",
    "- Use statistical analysis to optimize investment and maximize return.\n",
    "\n",
    "The company is still small, and though investment is substantial the short-term goals of the company are more oriented towards purchasing existing houses and flipping them as opposed to constructing entirely new houses. That being said, the company has access to a large construction workforce operating at rock-bottom prices.\n",
    "\n",
    "This project uses the [Ames housing data recently made available on kaggle](https://www.kaggle.com/c/house-prices-advanced-regression-techniques)."
   ]
  },
  {
   "cell_type": "code",
   "execution_count": 1,
   "metadata": {},
   "outputs": [],
   "source": [
    "import numpy as np\n",
    "import scipy.stats as stats\n",
    "import seaborn as sns\n",
    "import matplotlib.pyplot as plt\n",
    "import pandas as pd\n",
    "import statsmodels.formula.api as sm\n",
    "\n",
    "from sklearn.metrics import roc_curve, auc\n",
    "from sklearn.metrics import confusion_matrix\n",
    "from sklearn.preprocessing import StandardScaler\n",
    "from sklearn.linear_model import Ridge, Lasso, ElasticNet, LinearRegression, RidgeCV, LassoCV, ElasticNetCV, LogisticRegressionCV\n",
    "from sklearn.model_selection import cross_val_score\n",
    "from scipy import stats\n",
    "\n",
    "sns.set_style('whitegrid')\n",
    "\n",
    "%config InlineBackend.figure_format = 'retina'\n",
    "%matplotlib inline"
   ]
  },
  {
   "cell_type": "markdown",
   "metadata": {},
   "source": [
    "<img src=\"http://imgur.com/l5NasQj.png\" style=\"float: left; margin: 25px 15px 0px 0px; height: 25px\">\n",
    "\n",
    "## 1. Estimating the value of homes from fixed characteristics.\n",
    "\n",
    "---\n",
    "\n",
    "Your superiors have outlined this year's strategy for the company:\n",
    "1. Develop an algorithm to reliably estimate the value of residential houses based on *fixed* characteristics.\n",
    "2. Identify characteristics of houses that the company can cost-effectively change/renovate with their construction team.\n",
    "3. Evaluate the mean dollar value of different renovations.\n",
    "\n",
    "Then we can use that to buy houses that are likely to sell for more than the cost of the purchase plus renovations.\n",
    "\n",
    "Your first job is to tackle #1. You have a dataset of housing sale data with a huge amount of features identifying different aspects of the house. The full description of the data features can be found in a separate file:\n",
    "\n",
    "    housing.csv\n",
    "    data_description.txt\n",
    "    \n",
    "You need to build a reliable estimator for the price of the house given characteristics of the house that cannot be renovated. Some examples include:\n",
    "- The neighborhood\n",
    "- Square feet\n",
    "- Bedrooms, bathrooms\n",
    "- Basement and garage space\n",
    "\n",
    "and many more. \n",
    "\n",
    "Some examples of things that **ARE renovate-able:**\n",
    "- Roof and exterior features\n",
    "- \"Quality\" metrics, such as kitchen quality\n",
    "- \"Condition\" metrics, such as condition of garage\n",
    "- Heating and electrical components\n",
    "\n",
    "and generally anything you deem can be modified without having to undergo major construction on the house.\n",
    "\n",
    "---\n",
    "\n",
    "**Your goals:**\n",
    "1. Perform any cleaning, feature engineering, and EDA you deem necessary.\n",
    "- Be sure to remove any houses that are not residential from the dataset.\n",
    "- Identify **fixed** features that can predict price.\n",
    "- Train a model on pre-2010 data and evaluate its performance on the 2010 houses.\n",
    "- Characterize your model. How well does it perform? What are the best estimates of price?\n",
    "\n",
    "> **Note:** The EDA and feature engineering component to this project is not trivial! Be sure to always think critically and creatively. Justify your actions! Use the data description file!"
   ]
  },
  {
   "cell_type": "code",
   "execution_count": 2,
   "metadata": {},
   "outputs": [],
   "source": [
    "# Load the data\n",
    "house = pd.read_csv('./housing.csv')"
   ]
  },
  {
   "cell_type": "code",
   "execution_count": 3,
   "metadata": {},
   "outputs": [
    {
     "data": {
      "text/plain": [
       "(1460, 81)"
      ]
     },
     "execution_count": 3,
     "metadata": {},
     "output_type": "execute_result"
    }
   ],
   "source": [
    "house.shape\n"
   ]
  },
  {
   "cell_type": "code",
   "execution_count": 4,
   "metadata": {},
   "outputs": [
    {
     "data": {
      "text/plain": [
       "Id                  0\n",
       "MSSubClass          0\n",
       "MSZoning            0\n",
       "LotFrontage       259\n",
       "LotArea             0\n",
       "Street              0\n",
       "Alley            1369\n",
       "LotShape            0\n",
       "LandContour         0\n",
       "Utilities           0\n",
       "LotConfig           0\n",
       "LandSlope           0\n",
       "Neighborhood        0\n",
       "Condition1          0\n",
       "Condition2          0\n",
       "BldgType            0\n",
       "HouseStyle          0\n",
       "OverallQual         0\n",
       "OverallCond         0\n",
       "YearBuilt           0\n",
       "YearRemodAdd        0\n",
       "RoofStyle           0\n",
       "RoofMatl            0\n",
       "Exterior1st         0\n",
       "Exterior2nd         0\n",
       "MasVnrType          8\n",
       "MasVnrArea          8\n",
       "ExterQual           0\n",
       "ExterCond           0\n",
       "Foundation          0\n",
       "                 ... \n",
       "BedroomAbvGr        0\n",
       "KitchenAbvGr        0\n",
       "KitchenQual         0\n",
       "TotRmsAbvGrd        0\n",
       "Functional          0\n",
       "Fireplaces          0\n",
       "FireplaceQu       690\n",
       "GarageType         81\n",
       "GarageYrBlt        81\n",
       "GarageFinish       81\n",
       "GarageCars          0\n",
       "GarageArea          0\n",
       "GarageQual         81\n",
       "GarageCond         81\n",
       "PavedDrive          0\n",
       "WoodDeckSF          0\n",
       "OpenPorchSF         0\n",
       "EnclosedPorch       0\n",
       "3SsnPorch           0\n",
       "ScreenPorch         0\n",
       "PoolArea            0\n",
       "PoolQC           1453\n",
       "Fence            1179\n",
       "MiscFeature      1406\n",
       "MiscVal             0\n",
       "MoSold              0\n",
       "YrSold              0\n",
       "SaleType            0\n",
       "SaleCondition       0\n",
       "SalePrice           0\n",
       "Length: 81, dtype: int64"
      ]
     },
     "execution_count": 4,
     "metadata": {},
     "output_type": "execute_result"
    }
   ],
   "source": [
    "house.isnull().sum()"
   ]
  },
  {
   "cell_type": "markdown",
   "metadata": {},
   "source": [
    "<b>\n",
    "\n",
    "There are quite a number of null values.\n",
    "\n",
    "For each category, the null/na values likely mean that the particular property does not have that feature e.g. pools\n",
    "\n",
    "</b>"
   ]
  },
  {
   "cell_type": "code",
   "execution_count": 5,
   "metadata": {},
   "outputs": [
    {
     "data": {
      "text/plain": [
       "array(['RL', 'RM', 'C (all)', 'FV', 'RH'], dtype=object)"
      ]
     },
     "execution_count": 5,
     "metadata": {},
     "output_type": "execute_result"
    }
   ],
   "source": [
    "#Check what are the zoning classification groups\n",
    "\n",
    "house.MSZoning.unique()\n",
    "\n",
    "#house = house[house['MSZoning'].isin([''])]"
   ]
  },
  {
   "cell_type": "code",
   "execution_count": 6,
   "metadata": {},
   "outputs": [
    {
     "data": {
      "text/plain": [
       "array(['RL', 'RM', 'FV', 'RH'], dtype=object)"
      ]
     },
     "execution_count": 6,
     "metadata": {},
     "output_type": "execute_result"
    }
   ],
   "source": [
    "#remove commercial zoning as we are only interested in the residential\n",
    "\n",
    "house = house[house['MSZoning'].isin(['RL','RM','FV','RH'])]\n",
    "\n",
    "house.MSZoning.unique()"
   ]
  },
  {
   "cell_type": "code",
   "execution_count": 7,
   "metadata": {},
   "outputs": [],
   "source": [
    "#drop ID as it is not a useful feature to us\n",
    "\n",
    "house.drop('Id',axis=1,inplace=True)"
   ]
  },
  {
   "cell_type": "code",
   "execution_count": 8,
   "metadata": {},
   "outputs": [
    {
     "data": {
      "text/plain": [
       "Index(['MSSubClass', 'MSZoning', 'LotFrontage', 'LotArea', 'Street', 'Alley',\n",
       "       'LotShape', 'LandContour', 'Utilities', 'LotConfig', 'LandSlope',\n",
       "       'Neighborhood', 'Condition1', 'Condition2', 'BldgType', 'HouseStyle',\n",
       "       'OverallQual', 'OverallCond', 'YearBuilt', 'YearRemodAdd', 'RoofStyle',\n",
       "       'RoofMatl', 'Exterior1st', 'Exterior2nd', 'MasVnrType', 'MasVnrArea',\n",
       "       'ExterQual', 'ExterCond', 'Foundation', 'BsmtQual', 'BsmtCond',\n",
       "       'BsmtExposure', 'BsmtFinType1', 'BsmtFinSF1', 'BsmtFinType2',\n",
       "       'BsmtFinSF2', 'BsmtUnfSF', 'TotalBsmtSF', 'Heating', 'HeatingQC',\n",
       "       'CentralAir', 'Electrical', '1stFlrSF', '2ndFlrSF', 'LowQualFinSF',\n",
       "       'GrLivArea', 'BsmtFullBath', 'BsmtHalfBath', 'FullBath', 'HalfBath',\n",
       "       'BedroomAbvGr', 'KitchenAbvGr', 'KitchenQual', 'TotRmsAbvGrd',\n",
       "       'Functional', 'Fireplaces', 'FireplaceQu', 'GarageType', 'GarageYrBlt',\n",
       "       'GarageFinish', 'GarageCars', 'GarageArea', 'GarageQual', 'GarageCond',\n",
       "       'PavedDrive', 'WoodDeckSF', 'OpenPorchSF', 'EnclosedPorch', '3SsnPorch',\n",
       "       'ScreenPorch', 'PoolArea', 'PoolQC', 'Fence', 'MiscFeature', 'MiscVal',\n",
       "       'MoSold', 'YrSold', 'SaleType', 'SaleCondition', 'SalePrice'],\n",
       "      dtype='object')"
      ]
     },
     "execution_count": 8,
     "metadata": {},
     "output_type": "execute_result"
    }
   ],
   "source": [
    "house.columns"
   ]
  },
  {
   "cell_type": "code",
   "execution_count": 9,
   "metadata": {},
   "outputs": [],
   "source": [
    "#identify the fixed properties\n",
    "\n",
    "#these are the column names for the features that have been identified to be FIXED\n",
    "fixed_cols = ['MSSubClass','MSZoning',\n",
    "             'LotFrontage',\n",
    "             'LotArea',\n",
    "             'Street',\n",
    "             'Alley',\n",
    "             'LotShape',\n",
    "             'LandContour',\n",
    "             'Utilities',\n",
    "             'LotConfig',\n",
    "             'LandSlope',\n",
    "             'Neighborhood',\n",
    "             'Condition1',\n",
    "             'Condition2',\n",
    "             'BldgType',\n",
    "             'HouseStyle',\n",
    "              'YearBuilt',\n",
    "              'Foundation',\n",
    "              'BsmtQual',\n",
    "              'BsmtExposure',\n",
    "              'TotalBsmtSF',\n",
    "              '1stFlrSF',\n",
    "              '2ndFlrSF',\n",
    "              'GrLivArea',\n",
    "              'BsmtFullBath', \n",
    "              'BsmtHalfBath', \n",
    "              'FullBath','HalfBath', \n",
    "              'BedroomAbvGr', 'KitchenAbvGr',\n",
    "              'TotRmsAbvGrd', 'Fireplaces',\n",
    "              'GarageType', 'GarageYrBlt', 'GarageCars', 'GarageArea',\n",
    "              'WoodDeckSF', 'OpenPorchSF',\n",
    "              'EnclosedPorch', '3SsnPorch', 'ScreenPorch', 'PoolArea',\n",
    "              'MoSold', 'YrSold', 'SaleType',\n",
    "              'SaleCondition','SalePrice'\n",
    "             ]\n"
   ]
  },
  {
   "cell_type": "code",
   "execution_count": 10,
   "metadata": {},
   "outputs": [],
   "source": [
    "house_fixed = house[fixed_cols]\n"
   ]
  },
  {
   "cell_type": "code",
   "execution_count": 11,
   "metadata": {},
   "outputs": [
    {
     "data": {
      "text/plain": [
       "MSSubClass         int64\n",
       "MSZoning          object\n",
       "LotFrontage      float64\n",
       "LotArea            int64\n",
       "Street            object\n",
       "Alley             object\n",
       "LotShape          object\n",
       "LandContour       object\n",
       "Utilities         object\n",
       "LotConfig         object\n",
       "LandSlope         object\n",
       "Neighborhood      object\n",
       "Condition1        object\n",
       "Condition2        object\n",
       "BldgType          object\n",
       "HouseStyle        object\n",
       "YearBuilt          int64\n",
       "Foundation        object\n",
       "BsmtQual          object\n",
       "BsmtExposure      object\n",
       "TotalBsmtSF        int64\n",
       "1stFlrSF           int64\n",
       "2ndFlrSF           int64\n",
       "GrLivArea          int64\n",
       "BsmtFullBath       int64\n",
       "BsmtHalfBath       int64\n",
       "FullBath           int64\n",
       "HalfBath           int64\n",
       "BedroomAbvGr       int64\n",
       "KitchenAbvGr       int64\n",
       "TotRmsAbvGrd       int64\n",
       "Fireplaces         int64\n",
       "GarageType        object\n",
       "GarageYrBlt      float64\n",
       "GarageCars         int64\n",
       "GarageArea         int64\n",
       "WoodDeckSF         int64\n",
       "OpenPorchSF        int64\n",
       "EnclosedPorch      int64\n",
       "3SsnPorch          int64\n",
       "ScreenPorch        int64\n",
       "PoolArea           int64\n",
       "MoSold             int64\n",
       "YrSold             int64\n",
       "SaleType          object\n",
       "SaleCondition     object\n",
       "SalePrice          int64\n",
       "dtype: object"
      ]
     },
     "execution_count": 11,
     "metadata": {},
     "output_type": "execute_result"
    }
   ],
   "source": [
    "house_fixed.dtypes"
   ]
  },
  {
   "cell_type": "code",
   "execution_count": 12,
   "metadata": {},
   "outputs": [
    {
     "name": "stderr",
     "output_type": "stream",
     "text": [
      "C:\\Users\\Kai Hee\\Anaconda3\\lib\\site-packages\\pandas\\core\\frame.py:3790: SettingWithCopyWarning: \n",
      "A value is trying to be set on a copy of a slice from a DataFrame\n",
      "\n",
      "See the caveats in the documentation: http://pandas.pydata.org/pandas-docs/stable/indexing.html#indexing-view-versus-copy\n",
      "  downcast=downcast, **kwargs)\n"
     ]
    }
   ],
   "source": [
    "#change the null values to something appropriate so they will be considered as a \"category\"\n",
    "\n",
    "house_fixed.fillna(\"None\",inplace=True)\n",
    "\n"
   ]
  },
  {
   "cell_type": "code",
   "execution_count": 13,
   "metadata": {},
   "outputs": [],
   "source": [
    "#write function that will create dummy variables whenever datatype is an object/string as linear regression would not work\n",
    "#with categorical variables\n",
    "\n",
    "def create_dummy(colname,df):\n",
    "\n",
    "    if(df[colname].dtype == object):\n",
    "    \n",
    "        dummy = pd.get_dummies(house[colname])\n",
    "\n",
    "        dummy.columns = [colname + str(col) for col in dummy.columns]\n",
    "\n",
    "        #drop one reference category (the last col)\n",
    "\n",
    "        dummy = dummy.iloc[:,0:-1]\n",
    "\n",
    "        # Join the dummy variables to the main dataframe\n",
    "        df = pd.concat([df, dummy], axis=1)\n",
    "\n",
    "        #drop the original column that was converted to dummy variables\n",
    "\n",
    "        df.drop([colname],axis=1,inplace=True)\n",
    "        \n",
    "        \n",
    "    return df"
   ]
  },
  {
   "cell_type": "code",
   "execution_count": 14,
   "metadata": {},
   "outputs": [],
   "source": [
    "\n",
    "#run the function on each of the columns in the dataset\n",
    "\n",
    "for f in fixed_cols:\n",
    "    house_fixed = create_dummy(f,house_fixed)\n",
    "    "
   ]
  },
  {
   "cell_type": "code",
   "execution_count": 15,
   "metadata": {},
   "outputs": [],
   "source": [
    "#create more dummy variables where required (MSSubClass is int64, not an object and is a categorical variable)\n",
    "\n",
    "df_MSSub = pd.get_dummies(house['MSSubClass'])\n",
    "\n",
    "df_MSSub.columns = ['MSSub_' + str(col) for col in df_MSSub.columns]\n"
   ]
  },
  {
   "cell_type": "code",
   "execution_count": 16,
   "metadata": {},
   "outputs": [],
   "source": [
    "#drop one reference category\n",
    "\n",
    "df_MSSub.drop(['MSSub_20'],axis=1,inplace=True)\n",
    "\n",
    "# Join the dummy variables to the main dataframe\n",
    "house_fixed = pd.concat([house_fixed, df_MSSub], axis=1)\n"
   ]
  },
  {
   "cell_type": "code",
   "execution_count": 17,
   "metadata": {},
   "outputs": [],
   "source": [
    "#drop the original column that was converted to dummy variables\n",
    "\n",
    "house_fixed.drop(['MSSubClass'],axis=1,inplace=True)\n"
   ]
  },
  {
   "cell_type": "code",
   "execution_count": 18,
   "metadata": {},
   "outputs": [],
   "source": [
    "\n",
    "#shift SalePrice (target) to the last column\n",
    "\n",
    "price = house_fixed.SalePrice\n",
    "yrsold = house_fixed.YrSold\n",
    "\n",
    "house_fixed.drop('SalePrice',axis=1,inplace=True)#remove column\n",
    "\n",
    "house_fixed['SalePrice'] = price#add column back so it is the last column\n"
   ]
  },
  {
   "cell_type": "code",
   "execution_count": 19,
   "metadata": {},
   "outputs": [
    {
     "data": {
      "text/plain": [
       "SalePrice       1.000000\n",
       "GrLivArea       0.708658\n",
       "GarageCars      0.642135\n",
       "GarageArea      0.629831\n",
       "TotalBsmtSF     0.612088\n",
       "1stFlrSF        0.603300\n",
       "FullBath        0.556674\n",
       "BsmtQualEx      0.554251\n",
       "TotRmsAbvGrd    0.533355\n",
       "YearBuilt       0.517602\n",
       "Name: SalePrice, dtype: float64"
      ]
     },
     "execution_count": 19,
     "metadata": {},
     "output_type": "execute_result"
    }
   ],
   "source": [
    "#identify the features most highly correlated to the Sale Price\n",
    "\n",
    "house_fixed.corr()['SalePrice'].sort_values(ascending=False).head(10)"
   ]
  },
  {
   "cell_type": "code",
   "execution_count": 20,
   "metadata": {},
   "outputs": [],
   "source": [
    "#pick the 10 features with highest correlation as predictors for price\n",
    "\n",
    "predictors = ['GrLivArea','GarageCars','GarageArea','TotalBsmtSF','1stFlrSF','FullBath','BsmtQualEx','TotRmsAbvGrd','YearBuilt']\n"
   ]
  },
  {
   "cell_type": "code",
   "execution_count": 21,
   "metadata": {},
   "outputs": [
    {
     "name": "stderr",
     "output_type": "stream",
     "text": [
      "C:\\Users\\Kai Hee\\Anaconda3\\lib\\site-packages\\ipykernel_launcher.py:7: SettingWithCopyWarning: \n",
      "A value is trying to be set on a copy of a slice from a DataFrame.\n",
      "Try using .loc[row_indexer,col_indexer] = value instead\n",
      "\n",
      "See the caveats in the documentation: http://pandas.pydata.org/pandas-docs/stable/indexing.html#indexing-view-versus-copy\n",
      "  import sys\n",
      "C:\\Users\\Kai Hee\\Anaconda3\\lib\\site-packages\\sklearn\\preprocessing\\data.py:617: DataConversionWarning: Data with input dtype uint8, int64 were all converted to float64 by StandardScaler.\n",
      "  return self.partial_fit(X, y)\n",
      "C:\\Users\\Kai Hee\\Anaconda3\\lib\\site-packages\\sklearn\\base.py:462: DataConversionWarning: Data with input dtype uint8, int64 were all converted to float64 by StandardScaler.\n",
      "  return self.fit(X, **fit_params).transform(X)\n",
      "C:\\Users\\Kai Hee\\Anaconda3\\lib\\site-packages\\sklearn\\preprocessing\\data.py:617: DataConversionWarning: Data with input dtype uint8, int64 were all converted to float64 by StandardScaler.\n",
      "  return self.partial_fit(X, y)\n",
      "C:\\Users\\Kai Hee\\Anaconda3\\lib\\site-packages\\sklearn\\base.py:462: DataConversionWarning: Data with input dtype uint8, int64 were all converted to float64 by StandardScaler.\n",
      "  return self.fit(X, **fit_params).transform(X)\n"
     ]
    }
   ],
   "source": [
    "\n",
    "#sales data are from years 2006 - 2010\n",
    "#split into training set (prior to 2010) and test set (2010 houses)\n",
    "\n",
    "#only pick the columns with the selected features\n",
    "house_fixed2 = house_fixed[predictors]\n",
    "house_fixed2['SalePrice'] = price\n",
    "\n",
    "data_train = house_fixed2[house_fixed['YrSold']<2010]\n",
    "\n",
    "data_test = house_fixed2[house_fixed['YrSold']==2010]\n",
    "\n",
    "\n",
    "y_train = data_train.SalePrice.values\n",
    "\n",
    "y_test = data_test.SalePrice.values\n",
    "\n",
    "X_train = data_train.iloc[:,0:-1]\n",
    "\n",
    "X_test = data_test.iloc[:,0:-1]\n",
    "\n",
    "\n",
    "ss = StandardScaler()\n",
    "\n",
    "# Use the \"fit_transform\" function to standardize the X design matrix.\n",
    "Xs_train = ss.fit_transform(X_train)\n",
    "\n",
    "Xs_test = ss.fit_transform(X_test)\n"
   ]
  },
  {
   "cell_type": "code",
   "execution_count": 22,
   "metadata": {},
   "outputs": [
    {
     "name": "stdout",
     "output_type": "stream",
     "text": [
      "[0.69539153 0.78194418 0.69144425 0.74989501 0.65627751 0.7398257\n",
      " 0.73915807 0.86247732 0.79764685 0.84800286]\n",
      "The R^2 Score for Linear Regression Model is 0.7562063280678639\n"
     ]
    }
   ],
   "source": [
    "linreg = LinearRegression()\n",
    "\n",
    "lr = linreg.fit(Xs_train,y_train)\n",
    "\n",
    "linreg_scores = cross_val_score(lr, Xs_test, y_test, cv=10)\n",
    "\n",
    "print(linreg_scores)\n",
    "print('The R^2 Score for Linear Regression Model is', np.mean(linreg_scores))\n"
   ]
  },
  {
   "cell_type": "markdown",
   "metadata": {},
   "source": [
    "<b> The Linear Regression model performs fairly well without any regularisation with an R^2 score of 0.756 </b>"
   ]
  },
  {
   "cell_type": "code",
   "execution_count": 23,
   "metadata": {},
   "outputs": [
    {
     "name": "stdout",
     "output_type": "stream",
     "text": [
      "47.14866363457394\n",
      "[0.73967761 0.79486414 0.75844123 0.780209   0.80908343 0.69676698\n",
      " 0.72230544 0.90325344 0.72854487 0.7775129 ]\n",
      "0.7710659053264404\n"
     ]
    },
    {
     "name": "stderr",
     "output_type": "stream",
     "text": [
      "C:\\Users\\Kai Hee\\Anaconda3\\lib\\site-packages\\sklearn\\model_selection\\_search.py:841: DeprecationWarning: The default of the `iid` parameter will change from True to False in version 0.22 and will be removed in 0.24. This will change numeric results when test-set sizes are unequal.\n",
      "  DeprecationWarning)\n"
     ]
    }
   ],
   "source": [
    "#Attempt with ridge model to see if R^2 score can be improved\n",
    "\n",
    "ridge_alphas = np.logspace(-2, 7, 50)\n",
    "\n",
    "optimal_ridge = RidgeCV(alphas=ridge_alphas, cv=10)\n",
    "optimal_ridge.fit(Xs_train, y_train)\n",
    "\n",
    "print(optimal_ridge.alpha_)\n",
    "\n",
    "ridge = Ridge(alpha=optimal_ridge.alpha_)\n",
    "\n",
    "ridge_scores = cross_val_score(ridge, Xs_test, y_test, cv=10)\n",
    "\n",
    "print(ridge_scores)\n",
    "print(np.mean(ridge_scores))"
   ]
  },
  {
   "cell_type": "markdown",
   "metadata": {},
   "source": [
    "<b> The Ridge model performs significantly better with a score of 0.771</b>"
   ]
  },
  {
   "cell_type": "code",
   "execution_count": 24,
   "metadata": {},
   "outputs": [
    {
     "name": "stderr",
     "output_type": "stream",
     "text": [
      "[Parallel(n_jobs=1)]: Using backend SequentialBackend with 1 concurrent workers.\n",
      "........................................................................................................................................................................................................................................................................................................................................................................................................................................................................................................................................................................................................................................................................................................................................................................................................................................................................................................................................................................................................................................................................................................................................................................................................................................................................................................................................................................................................................................................................................................................................................................................................................................................................................................................................................................................................................................................................................................................................................................................................................................................................................................................................................................................................................................................................................................................................................................................................................................................................................................................................................................................................................................................................................................................................................................................................................................................................................................................................................................................................................................................................................................................................................................................................................................................................................................................................................................................................................................................................................................................................................................................................................................................................................................................................................................................................................................................................................................................................................................................................................................................................................................................................................................................................................................................................................................................................................................................................................................................................................................................................................................................................................................................................................................................................................................................................................................................................................................................................................................................................................................................................................................................................................................................................[Parallel(n_jobs=1)]: Done  10 out of  10 | elapsed:    3.7s finished\n"
     ]
    },
    {
     "name": "stdout",
     "output_type": "stream",
     "text": [
      "[0.68763796 0.78399322 0.70305392 0.76782463 0.76526192 0.73628099\n",
      " 0.73442396 0.89011069 0.78306002 0.8388627 ]\n",
      "0.7690510006795817\n"
     ]
    }
   ],
   "source": [
    "#Attempt with lasso model to see if R^2 score can be improved\n",
    "\n",
    "optimal_lasso = LassoCV(n_alphas=500, cv=10, verbose=1)\n",
    "optimal_lasso.fit(Xs_train, y_train)\n",
    "\n",
    "lasso = Lasso(alpha=optimal_lasso.alpha_)\n",
    "\n",
    "lasso_scores = cross_val_score(lasso, Xs_test, y_test, cv=10)\n",
    "\n",
    "print(lasso_scores)\n",
    "print(np.mean(lasso_scores))"
   ]
  },
  {
   "cell_type": "markdown",
   "metadata": {},
   "source": [
    "<b> The lasso model performs similarly to the ridge model with a score of 0.769, possibly because the number of features selected was small to begin with (10 features) </b>"
   ]
  },
  {
   "cell_type": "code",
   "execution_count": 25,
   "metadata": {},
   "outputs": [
    {
     "data": {
      "text/html": [
       "<div>\n",
       "<style scoped>\n",
       "    .dataframe tbody tr th:only-of-type {\n",
       "        vertical-align: middle;\n",
       "    }\n",
       "\n",
       "    .dataframe tbody tr th {\n",
       "        vertical-align: top;\n",
       "    }\n",
       "\n",
       "    .dataframe thead th {\n",
       "        text-align: right;\n",
       "    }\n",
       "</style>\n",
       "<table border=\"1\" class=\"dataframe\">\n",
       "  <thead>\n",
       "    <tr style=\"text-align: right;\">\n",
       "      <th></th>\n",
       "      <th>variable</th>\n",
       "      <th>coef</th>\n",
       "      <th>abs_coef</th>\n",
       "    </tr>\n",
       "  </thead>\n",
       "  <tbody>\n",
       "    <tr>\n",
       "      <th>0</th>\n",
       "      <td>GrLivArea</td>\n",
       "      <td>34481.107506</td>\n",
       "      <td>34481.107506</td>\n",
       "    </tr>\n",
       "    <tr>\n",
       "      <th>6</th>\n",
       "      <td>BsmtQualEx</td>\n",
       "      <td>17218.011420</td>\n",
       "      <td>17218.011420</td>\n",
       "    </tr>\n",
       "    <tr>\n",
       "      <th>8</th>\n",
       "      <td>YearBuilt</td>\n",
       "      <td>15222.589374</td>\n",
       "      <td>15222.589374</td>\n",
       "    </tr>\n",
       "    <tr>\n",
       "      <th>1</th>\n",
       "      <td>GarageCars</td>\n",
       "      <td>12879.776132</td>\n",
       "      <td>12879.776132</td>\n",
       "    </tr>\n",
       "    <tr>\n",
       "      <th>3</th>\n",
       "      <td>TotalBsmtSF</td>\n",
       "      <td>11537.421695</td>\n",
       "      <td>11537.421695</td>\n",
       "    </tr>\n",
       "    <tr>\n",
       "      <th>2</th>\n",
       "      <td>GarageArea</td>\n",
       "      <td>1027.605125</td>\n",
       "      <td>1027.605125</td>\n",
       "    </tr>\n",
       "    <tr>\n",
       "      <th>4</th>\n",
       "      <td>1stFlrSF</td>\n",
       "      <td>0.000000</td>\n",
       "      <td>0.000000</td>\n",
       "    </tr>\n",
       "    <tr>\n",
       "      <th>5</th>\n",
       "      <td>FullBath</td>\n",
       "      <td>0.000000</td>\n",
       "      <td>0.000000</td>\n",
       "    </tr>\n",
       "    <tr>\n",
       "      <th>7</th>\n",
       "      <td>TotRmsAbvGrd</td>\n",
       "      <td>-0.000000</td>\n",
       "      <td>0.000000</td>\n",
       "    </tr>\n",
       "  </tbody>\n",
       "</table>\n",
       "</div>"
      ],
      "text/plain": [
       "       variable          coef      abs_coef\n",
       "0     GrLivArea  34481.107506  34481.107506\n",
       "6    BsmtQualEx  17218.011420  17218.011420\n",
       "8     YearBuilt  15222.589374  15222.589374\n",
       "1    GarageCars  12879.776132  12879.776132\n",
       "3   TotalBsmtSF  11537.421695  11537.421695\n",
       "2    GarageArea   1027.605125   1027.605125\n",
       "4      1stFlrSF      0.000000      0.000000\n",
       "5      FullBath      0.000000      0.000000\n",
       "7  TotRmsAbvGrd     -0.000000      0.000000"
      ]
     },
     "execution_count": 25,
     "metadata": {},
     "output_type": "execute_result"
    }
   ],
   "source": [
    "#take a look at the lasso coefficients\n",
    "\n",
    "lasso.fit(Xs_train, y_train)\n",
    "\n",
    "\n",
    "lasso_coefs = pd.DataFrame({'variable':X_train.columns,\n",
    "                            'coef':lasso.coef_,\n",
    "                            'abs_coef':np.abs(lasso.coef_)})\n",
    "\n",
    "lasso_coefs.sort_values('abs_coef', inplace=True, ascending=False)\n",
    "\n",
    "lasso_coefs.head(20)"
   ]
  },
  {
   "cell_type": "code",
   "execution_count": 26,
   "metadata": {},
   "outputs": [
    {
     "name": "stdout",
     "output_type": "stream",
     "text": [
      "Proportion of variables zeroed out: 0.3333333333333333\n"
     ]
    }
   ],
   "source": [
    "print('Proportion of variables zeroed out:', np.sum((lasso.coef_ == 0))/float(len(lasso.coef_)))"
   ]
  },
  {
   "cell_type": "markdown",
   "metadata": {},
   "source": [
    "<b> 3 variables were zeroed out by the lasso model: Area of 1st floor in Square feet, Number of Full Baths and total number of rooms above ground <b>"
   ]
  },
  {
   "cell_type": "code",
   "execution_count": 27,
   "metadata": {},
   "outputs": [
    {
     "name": "stdout",
     "output_type": "stream",
     "text": [
      "1571.8756006165493\n",
      "1.0\n"
     ]
    }
   ],
   "source": [
    "#attempt elastic net model\n",
    "\n",
    "l1_ratios = np.linspace(0.01, 1.0, 25)\n",
    "\n",
    "optimal_enet = ElasticNetCV(l1_ratio=l1_ratios, n_alphas=30, cv=10)\n",
    "optimal_enet.fit(Xs_train, y_train)\n",
    "\n",
    "print(optimal_enet.alpha_)\n",
    "print(optimal_enet.l1_ratio_)"
   ]
  },
  {
   "cell_type": "code",
   "execution_count": 28,
   "metadata": {},
   "outputs": [
    {
     "name": "stdout",
     "output_type": "stream",
     "text": [
      "[0.68933354 0.786625   0.70552028 0.7684548  0.77751577 0.73555413\n",
      " 0.73089849 0.89254683 0.782697   0.83896576]\n",
      "0.7708111587095804\n"
     ]
    }
   ],
   "source": [
    "enet = ElasticNet(alpha=optimal_enet.alpha_, l1_ratio=optimal_enet.l1_ratio_)\n",
    "\n",
    "enet_scores = cross_val_score(enet, Xs_test, y_test, cv=10)\n",
    "\n",
    "print(enet_scores)\n",
    "print(np.mean(enet_scores))"
   ]
  },
  {
   "cell_type": "markdown",
   "metadata": {},
   "source": [
    "<b> The elastic net model performs similarly to the ridge model with a score of 0.771</b>"
   ]
  },
  {
   "cell_type": "markdown",
   "metadata": {},
   "source": [
    "<b> \n",
    "    \n",
    "From the model, the best estimators of price are \n",
    "\n",
    "1) Above Ground Living Area (Sq Feet)\n",
    "\n",
    "2) Basement Height\n",
    "\n",
    "3) Year the house was built\n",
    "\n",
    "4) Size of Garage in car capacity\n",
    "\n",
    "5) Area of Basement (Sq Feet)\n",
    "\n",
    "\n",
    "</b>\n"
   ]
  },
  {
   "cell_type": "code",
   "execution_count": 29,
   "metadata": {},
   "outputs": [],
   "source": [
    "#lets find and plot the residuals of our best model, the ridge model\n",
    "# predict y values based on fitted model\n",
    "df = pd.DataFrame()\n",
    "\n",
    "ridge.fit(Xs_train, y_train)\n",
    "\n",
    "#predict on test set\n",
    "rpredict_test = ridge.predict(X_test)\n",
    "\n",
    "#predict on training set\n",
    "rpredict_train = ridge.predict(X_train)\n",
    "\n",
    "df['Pred_test'] = rpredict_test\n",
    "df['SalePrice'] = y_test\n"
   ]
  },
  {
   "cell_type": "code",
   "execution_count": 30,
   "metadata": {
    "scrolled": true
   },
   "outputs": [
    {
     "name": "stderr",
     "output_type": "stream",
     "text": [
      "C:\\Users\\Kai Hee\\Anaconda3\\lib\\site-packages\\scipy\\stats\\stats.py:1713: FutureWarning: Using a non-tuple sequence for multidimensional indexing is deprecated; use `arr[tuple(seq)]` instead of `arr[seq]`. In the future this will be interpreted as an array index, `arr[np.array(seq)]`, which will result either in an error or a different result.\n",
      "  return np.add.reduce(sorted[indexer] * weights, axis=axis) / sumval\n"
     ]
    },
    {
     "data": {
      "text/plain": [
       "<seaborn.axisgrid.FacetGrid at 0x206f75bcc18>"
      ]
     },
     "execution_count": 30,
     "metadata": {},
     "output_type": "execute_result"
    },
    {
     "data": {
      "image/png": "[encoded data removed]",
      "text/plain": [
       "<Figure size 360x360 with 1 Axes>"
      ]
     },
     "metadata": {
      "image/png": {
       "height": 354,
       "width": 351
      },
      "needs_background": "light"
     },
     "output_type": "display_data"
    }
   ],
   "source": [
    "# Plot the model against the true values to see the residuals\n",
    "sns.lmplot(x='SalePrice', y='Pred_test', data=df)"
   ]
  },
  {
   "cell_type": "markdown",
   "metadata": {},
   "source": [
    "<b> The model seems to fit the data quite well for low sale prices, however the relationshop seems to become non-linear at higher sale prices </b>"
   ]
  },
  {
   "cell_type": "code",
   "execution_count": 31,
   "metadata": {},
   "outputs": [
    {
     "data": {
      "image/png": "[encoded data removed]",
      "text/plain": [
       "<Figure size 360x360 with 1 Axes>"
      ]
     },
     "metadata": {
      "image/png": {
       "height": 354,
       "width": 338
      },
      "needs_background": "light"
     },
     "output_type": "display_data"
    }
   ],
   "source": [
    "df2 = pd.DataFrame()\n",
    "\n",
    "df2['Pred_train'] = rpredict_train\n",
    "df2['SalePrice'] = y_train\n",
    "\n",
    "# Plot the model against the true values to see the residuals\n",
    "sns.lmplot(x='SalePrice', y='Pred_train', data=df2)\n",
    "\n",
    "#save the residuals to be used in Question 2\n",
    "df['Residuals_test'] = y_test-rpredict_test\n",
    "df2['Residuals_train'] = y_train-rpredict_train\n"
   ]
  },
  {
   "cell_type": "markdown",
   "metadata": {},
   "source": [
    "<img src=\"http://imgur.com/l5NasQj.png\" style=\"float: left; margin: 25px 15px 0px 0px; height: 25px\">\n",
    "\n",
    "## 2. Determine any value of *changeable* property characteristics unexplained by the *fixed* ones.\n",
    "\n",
    "---\n",
    "\n",
    "Now that you have a model that estimates the price of a house based on its static characteristics, we can move forward with part 2 and 3 of the plan: what are the costs/benefits of quality, condition, and renovations?\n",
    "\n",
    "There are two specific requirements for these estimates:\n",
    "1. The estimates of effects must be in terms of dollars added or subtracted from the house value. \n",
    "2. The effects must be on the variance in price remaining from the first model.\n",
    "\n",
    "The residuals from the first model (training and testing) represent the variance in price unexplained by the fixed characteristics. Of that variance in price remaining, how much of it can be explained by the easy-to-change aspects of the property?\n",
    "\n",
    "---\n",
    "\n",
    "**Your goals:**\n",
    "1. Evaluate the effect in dollars of the renovate-able features. \n",
    "- How would your company use this second model and its coefficients to determine whether they should buy a property or not? Explain how the company can use the two models you have built to determine if they can make money. \n",
    "- Investigate how much of the variance in price remaining is explained by these features.\n",
    "- Do you trust your model? Should it be used to evaluate which properties to buy and fix up?"
   ]
  },
  {
   "cell_type": "code",
   "execution_count": 32,
   "metadata": {},
   "outputs": [],
   "source": [
    "#identify the non-static or changeable property characteristics\n",
    "\n",
    "change_cols = [ 'OverallQual', 'OverallCond', 'YearRemodAdd', 'RoofStyle',\n",
    "       'RoofMatl', 'Exterior1st', 'Exterior2nd', 'MasVnrType', 'MasVnrArea',\n",
    "       'ExterQual', 'ExterCond', 'BsmtCond',\n",
    "       'BsmtFinType1', 'BsmtFinSF1', 'BsmtFinType2',\n",
    "       'Heating', 'HeatingQC',\n",
    "       'CentralAir', 'Electrical',\n",
    "       'Functional', 'FireplaceQu',\n",
    "       'GarageFinish', 'GarageQual', 'GarageCond',\n",
    "       'PavedDrive', 'PoolQC', 'Fence', 'MiscFeature', 'MiscVal','YrSold','SalePrice']\n"
   ]
  },
  {
   "cell_type": "code",
   "execution_count": 33,
   "metadata": {},
   "outputs": [],
   "source": [
    "#this is the dataset with the changeable attributes only\n",
    "\n",
    "house_change = house[change_cols]\n"
   ]
  },
  {
   "cell_type": "code",
   "execution_count": 34,
   "metadata": {},
   "outputs": [
    {
     "name": "stderr",
     "output_type": "stream",
     "text": [
      "C:\\Users\\Kai Hee\\Anaconda3\\lib\\site-packages\\ipykernel_launcher.py:4: SettingWithCopyWarning: \n",
      "A value is trying to be set on a copy of a slice from a DataFrame.\n",
      "Try using .loc[row_indexer,col_indexer] = value instead\n",
      "\n",
      "See the caveats in the documentation: http://pandas.pydata.org/pandas-docs/stable/indexing.html#indexing-view-versus-copy\n",
      "  after removing the cwd from sys.path.\n",
      "C:\\Users\\Kai Hee\\Anaconda3\\lib\\site-packages\\ipykernel_launcher.py:6: SettingWithCopyWarning: \n",
      "A value is trying to be set on a copy of a slice from a DataFrame.\n",
      "Try using .loc[row_indexer,col_indexer] = value instead\n",
      "\n",
      "See the caveats in the documentation: http://pandas.pydata.org/pandas-docs/stable/indexing.html#indexing-view-versus-copy\n",
      "  \n",
      "C:\\Users\\Kai Hee\\Anaconda3\\lib\\site-packages\\ipykernel_launcher.py:7: SettingWithCopyWarning: \n",
      "A value is trying to be set on a copy of a slice from a DataFrame.\n",
      "Try using .loc[row_indexer,col_indexer] = value instead\n",
      "\n",
      "See the caveats in the documentation: http://pandas.pydata.org/pandas-docs/stable/indexing.html#indexing-view-versus-copy\n",
      "  import sys\n"
     ]
    },
    {
     "data": {
      "text/plain": [
       "0    763\n",
       "1    687\n",
       "Name: Remodelled, dtype: int64"
      ]
     },
     "execution_count": 34,
     "metadata": {},
     "output_type": "execute_result"
    }
   ],
   "source": [
    "#if the house has never been remodelled, YearRemodAdd = YrBuilt\n",
    "#we can create a new column that tells us if the house has been remodelled or not\n",
    "\n",
    "house_change['Remodelled'] = house['YearBuilt']<house['YearRemodAdd']\n",
    "\n",
    "house_change['Remodelled'] = house_change['Remodelled'].replace(False,0).astype(int)\n",
    "house_change['Remodelled'] = house_change['Remodelled'].replace(True,1).astype(int)\n",
    "\n",
    "house_change['Remodelled'].value_counts()"
   ]
  },
  {
   "cell_type": "markdown",
   "metadata": {},
   "source": [
    "<b> We note that 763 (52.6%) of the properties have not been renovated/remodelled while 687 (47.4%) of the properties have. </b>"
   ]
  },
  {
   "cell_type": "code",
   "execution_count": 35,
   "metadata": {},
   "outputs": [
    {
     "data": {
      "text/plain": [
       "<matplotlib.axes._subplots.AxesSubplot at 0x206f7af3128>"
      ]
     },
     "execution_count": 35,
     "metadata": {},
     "output_type": "execute_result"
    },
    {
     "data": {
      "image/png": "[encoded data removed]",
      "text/plain": [
       "<Figure size 432x288 with 1 Axes>"
      ]
     },
     "metadata": {
      "image/png": {
       "height": 250,
       "width": 377
      },
      "needs_background": "light"
     },
     "output_type": "display_data"
    }
   ],
   "source": [
    "#We can explore what's the average sale price for houses that have been remodelled versus houses that have not\n",
    "\n",
    "house_change.groupby('Remodelled')['SalePrice'].mean().plot(kind='barh')"
   ]
  },
  {
   "cell_type": "code",
   "execution_count": 36,
   "metadata": {},
   "outputs": [
    {
     "data": {
      "text/plain": [
       "Remodelled\n",
       "0    182749.571429\n",
       "1    180439.218341\n",
       "Name: SalePrice, dtype: float64"
      ]
     },
     "execution_count": 36,
     "metadata": {},
     "output_type": "execute_result"
    }
   ],
   "source": [
    "house_change.groupby('Remodelled')['SalePrice'].mean()"
   ]
  },
  {
   "cell_type": "markdown",
   "metadata": {},
   "source": [
    "<b>It seems that the average sale price for remodelled home is actually slightly lower than that of homes that have not been remodelled</b>"
   ]
  },
  {
   "cell_type": "code",
   "execution_count": 37,
   "metadata": {},
   "outputs": [
    {
     "data": {
      "text/plain": [
       "OverallQual        0\n",
       "OverallCond        0\n",
       "YearRemodAdd       0\n",
       "RoofStyle          0\n",
       "RoofMatl           0\n",
       "Exterior1st        0\n",
       "Exterior2nd        0\n",
       "MasVnrType         8\n",
       "MasVnrArea         8\n",
       "ExterQual          0\n",
       "ExterCond          0\n",
       "BsmtCond          37\n",
       "BsmtFinType1      37\n",
       "BsmtFinSF1         0\n",
       "BsmtFinType2      38\n",
       "Heating            0\n",
       "HeatingQC          0\n",
       "CentralAir         0\n",
       "Electrical         1\n",
       "Functional         0\n",
       "FireplaceQu      681\n",
       "GarageFinish      79\n",
       "GarageQual        79\n",
       "GarageCond        79\n",
       "PavedDrive         0\n",
       "PoolQC          1443\n",
       "Fence           1172\n",
       "MiscFeature     1398\n",
       "MiscVal            0\n",
       "YrSold             0\n",
       "SalePrice          0\n",
       "Remodelled         0\n",
       "dtype: int64"
      ]
     },
     "execution_count": 37,
     "metadata": {},
     "output_type": "execute_result"
    }
   ],
   "source": [
    "#check for null values\n",
    "house_change.isnull().sum()"
   ]
  },
  {
   "cell_type": "code",
   "execution_count": 38,
   "metadata": {},
   "outputs": [
    {
     "name": "stderr",
     "output_type": "stream",
     "text": [
      "C:\\Users\\Kai Hee\\Anaconda3\\lib\\site-packages\\pandas\\core\\frame.py:3790: SettingWithCopyWarning: \n",
      "A value is trying to be set on a copy of a slice from a DataFrame\n",
      "\n",
      "See the caveats in the documentation: http://pandas.pydata.org/pandas-docs/stable/indexing.html#indexing-view-versus-copy\n",
      "  downcast=downcast, **kwargs)\n"
     ]
    }
   ],
   "source": [
    "#change the null values to something appropriate so they will be considered as a \"category\"\n",
    "\n",
    "house_change.fillna(\"None\",inplace=True)\n"
   ]
  },
  {
   "cell_type": "code",
   "execution_count": 39,
   "metadata": {},
   "outputs": [],
   "source": [
    "#again, we create dummy variables where required using the function created earlier\n",
    "\n",
    "#run the function on each of the columns in the dataset\n",
    "\n",
    "for f in change_cols:\n",
    "    house_change = create_dummy(f,house_change)\n",
    "    "
   ]
  },
  {
   "cell_type": "code",
   "execution_count": 40,
   "metadata": {},
   "outputs": [
    {
     "data": {
      "text/plain": [
       "SalePrice          1.000000\n",
       "OverallQual        0.789031\n",
       "YearRemodAdd       0.501186\n",
       "ExterQualEx        0.452509\n",
       "ExterQualGd        0.449738\n",
       "BsmtFinType1GLQ    0.432266\n",
       "HeatingQCEx        0.430411\n",
       "GarageFinishFin    0.417753\n",
       "BsmtFinSF1         0.384475\n",
       "FireplaceQuGd      0.337766\n",
       "Name: SalePrice, dtype: float64"
      ]
     },
     "execution_count": 40,
     "metadata": {},
     "output_type": "execute_result"
    }
   ],
   "source": [
    "#identify the features most highly correlated to the Sale Price\n",
    "\n",
    "#we'll use the top 10 most highly correlated variables as the features\n",
    "\n",
    "house_change.corr()['SalePrice'].sort_values(ascending=False).head(10)"
   ]
  },
  {
   "cell_type": "code",
   "execution_count": 41,
   "metadata": {},
   "outputs": [],
   "source": [
    "predictors = ['OverallQual','YearRemodAdd','ExterQualEx','ExterQualGd','BsmtFinType1GLQ','HeatingQCEx','GarageFinishFin',\n",
    "             'BsmtFinSF1','FireplaceQuGd']"
   ]
  },
  {
   "cell_type": "code",
   "execution_count": 42,
   "metadata": {},
   "outputs": [
    {
     "name": "stderr",
     "output_type": "stream",
     "text": [
      "C:\\Users\\Kai Hee\\Anaconda3\\lib\\site-packages\\ipykernel_launcher.py:3: SettingWithCopyWarning: \n",
      "A value is trying to be set on a copy of a slice from a DataFrame.\n",
      "Try using .loc[row_indexer,col_indexer] = value instead\n",
      "\n",
      "See the caveats in the documentation: http://pandas.pydata.org/pandas-docs/stable/indexing.html#indexing-view-versus-copy\n",
      "  This is separate from the ipykernel package so we can avoid doing imports until\n",
      "C:\\Users\\Kai Hee\\Anaconda3\\lib\\site-packages\\sklearn\\preprocessing\\data.py:617: DataConversionWarning: Data with input dtype uint8, int64 were all converted to float64 by StandardScaler.\n",
      "  return self.partial_fit(X, y)\n",
      "C:\\Users\\Kai Hee\\Anaconda3\\lib\\site-packages\\sklearn\\base.py:462: DataConversionWarning: Data with input dtype uint8, int64 were all converted to float64 by StandardScaler.\n",
      "  return self.fit(X, **fit_params).transform(X)\n",
      "C:\\Users\\Kai Hee\\Anaconda3\\lib\\site-packages\\sklearn\\preprocessing\\data.py:617: DataConversionWarning: Data with input dtype uint8, int64 were all converted to float64 by StandardScaler.\n",
      "  return self.partial_fit(X, y)\n",
      "C:\\Users\\Kai Hee\\Anaconda3\\lib\\site-packages\\sklearn\\base.py:462: DataConversionWarning: Data with input dtype uint8, int64 were all converted to float64 by StandardScaler.\n",
      "  return self.fit(X, **fit_params).transform(X)\n"
     ]
    }
   ],
   "source": [
    "#only pick the columns with the selected features\n",
    "house_change2 = house_change[predictors]\n",
    "house_change2['SalePrice'] = price\n",
    "\n",
    "\n",
    "#we manually split the dataset into training and test\n",
    "data_train = house_change2[house_change['YrSold']<2010]\n",
    "\n",
    "data_test = house_change2[house_change['YrSold']==2010]\n",
    "\n",
    "\n",
    "#our target variable is the remaining variance in price from the first model, thus we should subtract off the predicted price\n",
    "#from the first model to derive the residuals\n",
    "\n",
    "y_train = data_train.SalePrice.values - rpredict_train\n",
    "\n",
    "y_test = data_test.SalePrice.values - rpredict_test\n",
    "\n",
    "X_train = data_train.iloc[:,0:-1]\n",
    "\n",
    "X_test = data_test.iloc[:,0:-1]\n",
    "\n",
    "\n",
    "ss = StandardScaler()\n",
    "\n",
    "# Use the \"fit_transform\" function to standardize the X design matrix.\n",
    "Xs_train = ss.fit_transform(X_train)\n",
    "\n",
    "Xs_test = ss.fit_transform(X_test)\n"
   ]
  },
  {
   "cell_type": "code",
   "execution_count": 43,
   "metadata": {},
   "outputs": [
    {
     "name": "stdout",
     "output_type": "stream",
     "text": [
      "[ 0.23483663  0.22842562  0.59878887  0.42336193 -0.18182081  0.64467415\n",
      "  0.40273592  0.59512093  0.41183383  0.28897921]\n",
      "The R^2 Score for Linear Regression Model is 0.36469362891057167\n"
     ]
    }
   ],
   "source": [
    "#Attempt linear regression model first\n",
    "\n",
    "linreg = LinearRegression()\n",
    "\n",
    "lr = linreg.fit(Xs_train,y_train)\n",
    "\n",
    "linreg_scores = cross_val_score(lr, Xs_test, y_test, cv=10)\n",
    "\n",
    "print(linreg_scores)\n",
    "print('The R^2 Score for Linear Regression Model is', np.mean(linreg_scores))"
   ]
  },
  {
   "cell_type": "markdown",
   "metadata": {},
   "source": [
    "<b>The R^2 Score for Linear Regression Model is 0.365</b>"
   ]
  },
  {
   "cell_type": "code",
   "execution_count": 44,
   "metadata": {},
   "outputs": [
    {
     "name": "stdout",
     "output_type": "stream",
     "text": [
      "30.888435964774818\n",
      "[ 0.31620589  0.26612714  0.61460857  0.4256305  -0.2125176   0.61835464\n",
      "  0.43163957  0.5334652   0.3822361   0.30880383]\n",
      "The R^2 score for the ridge model is 0.3684553849262063\n"
     ]
    }
   ],
   "source": [
    "#Attempt with ridge model to see if R^2 score can be improved\n",
    "\n",
    "ridge_alphas = np.logspace(-2, 7, 50)\n",
    "\n",
    "optimal_ridge = RidgeCV(alphas=ridge_alphas, cv=10)\n",
    "optimal_ridge.fit(Xs_train, y_train)\n",
    "\n",
    "print(optimal_ridge.alpha_)\n",
    "\n",
    "ridge = Ridge(alpha=optimal_ridge.alpha_)\n",
    "\n",
    "ridge_scores = cross_val_score(ridge, Xs_test, y_test, cv=10)\n",
    "\n",
    "print(ridge_scores)\n",
    "print('The R^2 score for the ridge model is', np.mean(ridge_scores))"
   ]
  },
  {
   "cell_type": "markdown",
   "metadata": {},
   "source": [
    "<b>The R^2 score for the ridge model is 0.368</b>"
   ]
  },
  {
   "cell_type": "code",
   "execution_count": 45,
   "metadata": {},
   "outputs": [
    {
     "name": "stderr",
     "output_type": "stream",
     "text": [
      "[Parallel(n_jobs=1)]: Using backend SequentialBackend with 1 concurrent workers.\n",
      "......................................................................................................................................................................................................................................................................................................................................................................................................................................................................................................................................................................................................................................................................................................................................................................................................................................................................................................................................................................................................................................................................................................................................................................................................................................................................................................................................................................................................................................................................................................................................................................................................................................................................................................................................................................................................................................................................................................................................................................................................................................................................................................................................................................................................................................................................................................................................................................................................................................................................................................................................................................................................................................................................................................................................................................................................................................................................................................................................................................................................................................................................................................................................................................................................................................................................................................................................................................................................................................................................................................................................................................................................................................................................................................................................................................................................................................................................................................................................................................................................................................................................................................................................................................................................................................................................................................................................................................................................................................................................................................................................................................................................................................................................................................................................................................................................................................................................................................................................................................................................................................."
     ]
    },
    {
     "name": "stdout",
     "output_type": "stream",
     "text": [
      "13988.018998022777\n",
      "[ 0.23633844  0.2299209   0.59831199  0.42324429 -0.18116133  0.6435123\n",
      "  0.40325903  0.59425612  0.41254599  0.28893241]\n",
      "The R^2 score for the lasso model is 0.3649160150533842\n"
     ]
    },
    {
     "name": "stderr",
     "output_type": "stream",
     "text": [
      ".................................................................................................................................................................[Parallel(n_jobs=1)]: Done  10 out of  10 | elapsed:    3.6s finished\n"
     ]
    }
   ],
   "source": [
    "#Attempt with lasso model to see if R^2 score can be improved\n",
    "\n",
    "optimal_lasso = LassoCV(n_alphas=500, cv=10, verbose=1)\n",
    "optimal_lasso.fit(Xs_train, y_train)\n",
    "\n",
    "print(optimal_lasso.alpha_)\n",
    "\n",
    "lasso = Lasso(alpha=optimal_lasso.alpha_)\n",
    "\n",
    "lasso_scores = cross_val_score(lasso, Xs_test, y_test, cv=10)\n",
    "\n",
    "print(lasso_scores)\n",
    "print('The R^2 score for the lasso model is', np.mean(lasso_scores))"
   ]
  },
  {
   "cell_type": "markdown",
   "metadata": {},
   "source": [
    "<b>The R^2 score for the lasso model is 0.365</b>"
   ]
  },
  {
   "cell_type": "code",
   "execution_count": 46,
   "metadata": {},
   "outputs": [
    {
     "data": {
      "text/html": [
       "<div>\n",
       "<style scoped>\n",
       "    .dataframe tbody tr th:only-of-type {\n",
       "        vertical-align: middle;\n",
       "    }\n",
       "\n",
       "    .dataframe tbody tr th {\n",
       "        vertical-align: top;\n",
       "    }\n",
       "\n",
       "    .dataframe thead th {\n",
       "        text-align: right;\n",
       "    }\n",
       "</style>\n",
       "<table border=\"1\" class=\"dataframe\">\n",
       "  <thead>\n",
       "    <tr style=\"text-align: right;\">\n",
       "      <th></th>\n",
       "      <th>variable</th>\n",
       "      <th>coef</th>\n",
       "      <th>abs_coef</th>\n",
       "    </tr>\n",
       "  </thead>\n",
       "  <tbody>\n",
       "    <tr>\n",
       "      <th>0</th>\n",
       "      <td>OverallQual</td>\n",
       "      <td>-1.255423e+07</td>\n",
       "      <td>1.255423e+07</td>\n",
       "    </tr>\n",
       "    <tr>\n",
       "      <th>7</th>\n",
       "      <td>BsmtFinSF1</td>\n",
       "      <td>-4.895348e+06</td>\n",
       "      <td>4.895348e+06</td>\n",
       "    </tr>\n",
       "    <tr>\n",
       "      <th>4</th>\n",
       "      <td>BsmtFinType1GLQ</td>\n",
       "      <td>3.159049e+06</td>\n",
       "      <td>3.159049e+06</td>\n",
       "    </tr>\n",
       "    <tr>\n",
       "      <th>2</th>\n",
       "      <td>ExterQualEx</td>\n",
       "      <td>-1.330937e+06</td>\n",
       "      <td>1.330937e+06</td>\n",
       "    </tr>\n",
       "    <tr>\n",
       "      <th>8</th>\n",
       "      <td>FireplaceQuGd</td>\n",
       "      <td>-1.062332e+06</td>\n",
       "      <td>1.062332e+06</td>\n",
       "    </tr>\n",
       "    <tr>\n",
       "      <th>3</th>\n",
       "      <td>ExterQualGd</td>\n",
       "      <td>-1.044264e+06</td>\n",
       "      <td>1.044264e+06</td>\n",
       "    </tr>\n",
       "    <tr>\n",
       "      <th>6</th>\n",
       "      <td>GarageFinishFin</td>\n",
       "      <td>-8.021107e+05</td>\n",
       "      <td>8.021107e+05</td>\n",
       "    </tr>\n",
       "    <tr>\n",
       "      <th>1</th>\n",
       "      <td>YearRemodAdd</td>\n",
       "      <td>3.735417e+05</td>\n",
       "      <td>3.735417e+05</td>\n",
       "    </tr>\n",
       "    <tr>\n",
       "      <th>5</th>\n",
       "      <td>HeatingQCEx</td>\n",
       "      <td>-1.512025e+05</td>\n",
       "      <td>1.512025e+05</td>\n",
       "    </tr>\n",
       "  </tbody>\n",
       "</table>\n",
       "</div>"
      ],
      "text/plain": [
       "          variable          coef      abs_coef\n",
       "0      OverallQual -1.255423e+07  1.255423e+07\n",
       "7       BsmtFinSF1 -4.895348e+06  4.895348e+06\n",
       "4  BsmtFinType1GLQ  3.159049e+06  3.159049e+06\n",
       "2      ExterQualEx -1.330937e+06  1.330937e+06\n",
       "8    FireplaceQuGd -1.062332e+06  1.062332e+06\n",
       "3      ExterQualGd -1.044264e+06  1.044264e+06\n",
       "6  GarageFinishFin -8.021107e+05  8.021107e+05\n",
       "1     YearRemodAdd  3.735417e+05  3.735417e+05\n",
       "5      HeatingQCEx -1.512025e+05  1.512025e+05"
      ]
     },
     "execution_count": 46,
     "metadata": {},
     "output_type": "execute_result"
    }
   ],
   "source": [
    "#take a look at the lasso coefficients\n",
    "\n",
    "lasso.fit(Xs_train, y_train)\n",
    "\n",
    "lasso_coefs = pd.DataFrame({'variable':X_train.columns,\n",
    "                            'coef':lasso.coef_,\n",
    "                            'abs_coef':np.abs(lasso.coef_)})\n",
    "\n",
    "lasso_coefs.sort_values('abs_coef', inplace=True, ascending=False)\n",
    "\n",
    "lasso_coefs.head(20)"
   ]
  },
  {
   "cell_type": "code",
   "execution_count": 47,
   "metadata": {},
   "outputs": [
    {
     "name": "stdout",
     "output_type": "stream",
     "text": [
      "Proportion of variables zeroed out: 0.0\n"
     ]
    }
   ],
   "source": [
    "print('Proportion of variables zeroed out:', np.sum((lasso.coef_ == 0))/float(len(lasso.coef_)))"
   ]
  },
  {
   "cell_type": "code",
   "execution_count": 48,
   "metadata": {},
   "outputs": [
    {
     "name": "stdout",
     "output_type": "stream",
     "text": [
      "[ 0.23633844  0.2299209   0.59831199  0.42324429 -0.18116133  0.6435123\n",
      "  0.40325903  0.59425612  0.41254599  0.28893241]\n",
      "The R^2 score for the elastic net model is 0.3649160150533842\n"
     ]
    }
   ],
   "source": [
    "#attempt elastic net model\n",
    "\n",
    "l1_ratios = np.linspace(0.01, 1.0, 25)\n",
    "\n",
    "optimal_enet = ElasticNetCV(l1_ratio=l1_ratios, n_alphas=30, cv=10)\n",
    "optimal_enet.fit(Xs_train, y_train)\n",
    "\n",
    "enet = ElasticNet(alpha=optimal_enet.alpha_, l1_ratio=optimal_enet.l1_ratio_)\n",
    "\n",
    "enet_scores = cross_val_score(enet, Xs_test, y_test, cv=10)\n",
    "\n",
    "print(enet_scores)\n",
    "print('The R^2 score for the elastic net model is', np.mean(enet_scores))"
   ]
  },
  {
   "cell_type": "markdown",
   "metadata": {},
   "source": [
    "<b> Of all the models, the ridge model performs the best by a slight margin with an R^2 score of 0.368</b>"
   ]
  },
  {
   "cell_type": "code",
   "execution_count": 49,
   "metadata": {},
   "outputs": [
    {
     "name": "stderr",
     "output_type": "stream",
     "text": [
      "C:\\Users\\Kai Hee\\Anaconda3\\lib\\site-packages\\scipy\\stats\\stats.py:1713: FutureWarning: Using a non-tuple sequence for multidimensional indexing is deprecated; use `arr[tuple(seq)]` instead of `arr[seq]`. In the future this will be interpreted as an array index, `arr[np.array(seq)]`, which will result either in an error or a different result.\n",
      "  return np.add.reduce(sorted[indexer] * weights, axis=axis) / sumval\n"
     ]
    },
    {
     "data": {
      "text/plain": [
       "<seaborn.axisgrid.FacetGrid at 0x206f7d581d0>"
      ]
     },
     "execution_count": 49,
     "metadata": {},
     "output_type": "execute_result"
    },
    {
     "data": {
      "image/png": "[encoded data removed]",
      "text/plain": [
       "<Figure size 360x360 with 1 Axes>"
      ]
     },
     "metadata": {
      "image/png": {
       "height": 354,
       "width": 351
      },
      "needs_background": "light"
     },
     "output_type": "display_data"
    }
   ],
   "source": [
    "#lets find and plot the residuals of our model\n",
    "# predict y values based on fitted model\n",
    "df3 = pd.DataFrame()\n",
    "\n",
    "er = enet.fit(Xs_train,y_train)\n",
    "\n",
    "#predict on test set\n",
    "erpredict_test = er.predict(X_test)\n",
    "\n",
    "#predict on training set\n",
    "erpredict_train = er.predict(X_train)\n",
    "\n",
    "df3['Pred_test'] = erpredict_test\n",
    "df3['PriceVariance'] = y_test\n",
    "\n",
    "\n",
    "# Plot the model against the true values to see the residuals\n",
    "sns.lmplot(x='PriceVariance', y='Pred_test', data=df3)\n"
   ]
  },
  {
   "cell_type": "code",
   "execution_count": 50,
   "metadata": {},
   "outputs": [
    {
     "data": {
      "image/png": "[encoded data removed]",
      "text/plain": [
       "<Figure size 360x360 with 1 Axes>"
      ]
     },
     "metadata": {
      "image/png": {
       "height": 354,
       "width": 351
      },
      "needs_background": "light"
     },
     "output_type": "display_data"
    }
   ],
   "source": [
    "df4 = pd.DataFrame()\n",
    "\n",
    "df4['Pred_train'] = erpredict_train\n",
    "df4['PriceVariance'] = y_train\n",
    "\n",
    "# Plot the model against the true values to see the residuals\n",
    "sns.lmplot(x='PriceVariance', y='Pred_train', data=df4)\n",
    "\n",
    "#save the residuals to be used in Question 2\n",
    "df3['Residuals_test'] = y_test-erpredict_test\n",
    "df4['Residuals_train'] = y_train-erpredict_train"
   ]
  },
  {
   "cell_type": "markdown",
   "metadata": {},
   "source": [
    "<b> As the R^2 score is moderate, we can conclude that renovation does have some impact on the variance in sale price, but the effect is not that strong. Furthermore, from initial EDA, the average sale price of the houses was actually lower for properties that had been remodelled.  </b>"
   ]
  },
  {
   "cell_type": "markdown",
   "metadata": {},
   "source": [
    "<img src=\"http://imgur.com/GCAf1UX.png\" style=\"float: left; margin: 25px 15px 0px 0px; height: 25px\">\n",
    "\n",
    "## 3. What property characteristics predict an \"abnormal\" sale?\n",
    "\n",
    "---\n",
    "\n",
    "The `SaleCondition` feature indicates the circumstances of the house sale. From the data file, we can see that the possibilities are:\n",
    "\n",
    "       Normal\tNormal Sale\n",
    "       Abnorml\tAbnormal Sale -  trade, foreclosure, short sale\n",
    "       AdjLand\tAdjoining Land Purchase\n",
    "       Alloca\tAllocation - two linked properties with separate deeds, typically condo with a garage unit\t\n",
    "       Family\tSale between family members\n",
    "       Partial\tHome was not completed when last assessed (associated with New Homes)\n",
    "       \n",
    "One of the executives at your company has an \"in\" with higher-ups at the major regional bank. His friends at the bank have made him a proposal: if he can reliably indicate what features, if any, predict \"abnormal\" sales (foreclosures, short sales, etc.), then in return the bank will give him first dibs on the pre-auction purchase of those properties (at a dirt-cheap price).\n",
    "\n",
    "He has tasked you with determining (and adequately validating) which features of a property predict this type of sale. \n",
    "\n",
    "---\n",
    "\n",
    "**Your task:**\n",
    "1. Determine which features predict the `Abnorml` category in the `SaleCondition` feature.\n",
    "- Justify your results.\n",
    "\n",
    "This is a challenging task that tests your ability to perform classification analysis in the face of severe class imbalance. You may find that simply running a classifier on the full dataset to predict the category ends up useless: when there is bad class imbalance classifiers often tend to simply guess the majority class.\n",
    "\n",
    "It is up to you to determine how you will tackle this problem. I recommend doing some research to find out how others have dealt with the problem in the past. Make sure to justify your solution. Don't worry about it being \"the best\" solution, but be rigorous.\n",
    "\n",
    "Be sure to indicate which features are predictive (if any) and whether they are positive or negative predictors of abnormal sales."
   ]
  },
  {
   "cell_type": "code",
   "execution_count": 51,
   "metadata": {},
   "outputs": [
    {
     "data": {
      "text/html": [
       "<div>\n",
       "<style scoped>\n",
       "    .dataframe tbody tr th:only-of-type {\n",
       "        vertical-align: middle;\n",
       "    }\n",
       "\n",
       "    .dataframe tbody tr th {\n",
       "        vertical-align: top;\n",
       "    }\n",
       "\n",
       "    .dataframe thead th {\n",
       "        text-align: right;\n",
       "    }\n",
       "</style>\n",
       "<table border=\"1\" class=\"dataframe\">\n",
       "  <thead>\n",
       "    <tr style=\"text-align: right;\">\n",
       "      <th></th>\n",
       "      <th>MSSubClass</th>\n",
       "      <th>MSZoning</th>\n",
       "      <th>LotFrontage</th>\n",
       "      <th>LotArea</th>\n",
       "      <th>Street</th>\n",
       "      <th>Alley</th>\n",
       "      <th>LotShape</th>\n",
       "      <th>LandContour</th>\n",
       "      <th>Utilities</th>\n",
       "      <th>LotConfig</th>\n",
       "      <th>...</th>\n",
       "      <th>PoolArea</th>\n",
       "      <th>PoolQC</th>\n",
       "      <th>Fence</th>\n",
       "      <th>MiscFeature</th>\n",
       "      <th>MiscVal</th>\n",
       "      <th>MoSold</th>\n",
       "      <th>YrSold</th>\n",
       "      <th>SaleType</th>\n",
       "      <th>SaleCondition</th>\n",
       "      <th>SalePrice</th>\n",
       "    </tr>\n",
       "  </thead>\n",
       "  <tbody>\n",
       "    <tr>\n",
       "      <th>0</th>\n",
       "      <td>60</td>\n",
       "      <td>RL</td>\n",
       "      <td>65.0</td>\n",
       "      <td>8450</td>\n",
       "      <td>Pave</td>\n",
       "      <td>NaN</td>\n",
       "      <td>Reg</td>\n",
       "      <td>Lvl</td>\n",
       "      <td>AllPub</td>\n",
       "      <td>Inside</td>\n",
       "      <td>...</td>\n",
       "      <td>0</td>\n",
       "      <td>NaN</td>\n",
       "      <td>NaN</td>\n",
       "      <td>NaN</td>\n",
       "      <td>0</td>\n",
       "      <td>2</td>\n",
       "      <td>2008</td>\n",
       "      <td>WD</td>\n",
       "      <td>Normal</td>\n",
       "      <td>208500</td>\n",
       "    </tr>\n",
       "    <tr>\n",
       "      <th>1</th>\n",
       "      <td>20</td>\n",
       "      <td>RL</td>\n",
       "      <td>80.0</td>\n",
       "      <td>9600</td>\n",
       "      <td>Pave</td>\n",
       "      <td>NaN</td>\n",
       "      <td>Reg</td>\n",
       "      <td>Lvl</td>\n",
       "      <td>AllPub</td>\n",
       "      <td>FR2</td>\n",
       "      <td>...</td>\n",
       "      <td>0</td>\n",
       "      <td>NaN</td>\n",
       "      <td>NaN</td>\n",
       "      <td>NaN</td>\n",
       "      <td>0</td>\n",
       "      <td>5</td>\n",
       "      <td>2007</td>\n",
       "      <td>WD</td>\n",
       "      <td>Normal</td>\n",
       "      <td>181500</td>\n",
       "    </tr>\n",
       "    <tr>\n",
       "      <th>2</th>\n",
       "      <td>60</td>\n",
       "      <td>RL</td>\n",
       "      <td>68.0</td>\n",
       "      <td>11250</td>\n",
       "      <td>Pave</td>\n",
       "      <td>NaN</td>\n",
       "      <td>IR1</td>\n",
       "      <td>Lvl</td>\n",
       "      <td>AllPub</td>\n",
       "      <td>Inside</td>\n",
       "      <td>...</td>\n",
       "      <td>0</td>\n",
       "      <td>NaN</td>\n",
       "      <td>NaN</td>\n",
       "      <td>NaN</td>\n",
       "      <td>0</td>\n",
       "      <td>9</td>\n",
       "      <td>2008</td>\n",
       "      <td>WD</td>\n",
       "      <td>Normal</td>\n",
       "      <td>223500</td>\n",
       "    </tr>\n",
       "    <tr>\n",
       "      <th>3</th>\n",
       "      <td>70</td>\n",
       "      <td>RL</td>\n",
       "      <td>60.0</td>\n",
       "      <td>9550</td>\n",
       "      <td>Pave</td>\n",
       "      <td>NaN</td>\n",
       "      <td>IR1</td>\n",
       "      <td>Lvl</td>\n",
       "      <td>AllPub</td>\n",
       "      <td>Corner</td>\n",
       "      <td>...</td>\n",
       "      <td>0</td>\n",
       "      <td>NaN</td>\n",
       "      <td>NaN</td>\n",
       "      <td>NaN</td>\n",
       "      <td>0</td>\n",
       "      <td>2</td>\n",
       "      <td>2006</td>\n",
       "      <td>WD</td>\n",
       "      <td>Abnorml</td>\n",
       "      <td>140000</td>\n",
       "    </tr>\n",
       "    <tr>\n",
       "      <th>4</th>\n",
       "      <td>60</td>\n",
       "      <td>RL</td>\n",
       "      <td>84.0</td>\n",
       "      <td>14260</td>\n",
       "      <td>Pave</td>\n",
       "      <td>NaN</td>\n",
       "      <td>IR1</td>\n",
       "      <td>Lvl</td>\n",
       "      <td>AllPub</td>\n",
       "      <td>FR2</td>\n",
       "      <td>...</td>\n",
       "      <td>0</td>\n",
       "      <td>NaN</td>\n",
       "      <td>NaN</td>\n",
       "      <td>NaN</td>\n",
       "      <td>0</td>\n",
       "      <td>12</td>\n",
       "      <td>2008</td>\n",
       "      <td>WD</td>\n",
       "      <td>Normal</td>\n",
       "      <td>250000</td>\n",
       "    </tr>\n",
       "  </tbody>\n",
       "</table>\n",
       "<p>5 rows × 80 columns</p>\n",
       "</div>"
      ],
      "text/plain": [
       "   MSSubClass MSZoning  LotFrontage  LotArea Street Alley LotShape  \\\n",
       "0          60       RL         65.0     8450   Pave   NaN      Reg   \n",
       "1          20       RL         80.0     9600   Pave   NaN      Reg   \n",
       "2          60       RL         68.0    11250   Pave   NaN      IR1   \n",
       "3          70       RL         60.0     9550   Pave   NaN      IR1   \n",
       "4          60       RL         84.0    14260   Pave   NaN      IR1   \n",
       "\n",
       "  LandContour Utilities LotConfig    ...     PoolArea PoolQC Fence  \\\n",
       "0         Lvl    AllPub    Inside    ...            0    NaN   NaN   \n",
       "1         Lvl    AllPub       FR2    ...            0    NaN   NaN   \n",
       "2         Lvl    AllPub    Inside    ...            0    NaN   NaN   \n",
       "3         Lvl    AllPub    Corner    ...            0    NaN   NaN   \n",
       "4         Lvl    AllPub       FR2    ...            0    NaN   NaN   \n",
       "\n",
       "  MiscFeature MiscVal MoSold  YrSold  SaleType  SaleCondition  SalePrice  \n",
       "0         NaN       0      2    2008        WD         Normal     208500  \n",
       "1         NaN       0      5    2007        WD         Normal     181500  \n",
       "2         NaN       0      9    2008        WD         Normal     223500  \n",
       "3         NaN       0      2    2006        WD        Abnorml     140000  \n",
       "4         NaN       0     12    2008        WD         Normal     250000  \n",
       "\n",
       "[5 rows x 80 columns]"
      ]
     },
     "execution_count": 51,
     "metadata": {},
     "output_type": "execute_result"
    }
   ],
   "source": [
    "house.SaleCondition.value_counts()\n",
    "\n",
    "house.head()"
   ]
  },
  {
   "cell_type": "markdown",
   "metadata": {},
   "source": [
    "<b>There are multiple categories of Sale Condition, of which Abonormal sales only make up 6.6% of the total transactions. \n",
    "</b>"
   ]
  },
  {
   "cell_type": "code",
   "execution_count": 52,
   "metadata": {},
   "outputs": [],
   "source": [
    "#do some feature engineering to create a new column that indicates whether sale condition is abnormal or not\n",
    "\n",
    "house['abnormal'] = house.SaleCondition=='Abnorml'\n",
    "\n",
    "house['abnormal'] = house['abnormal'].replace(False,0).astype(int)\n",
    "house['abnormal'] = house['abnormal'].replace(True,1).astype(int)\n",
    "\n",
    "#drop the original sale condition column\n",
    "\n",
    "house.drop('SaleCondition',axis=1,inplace=True)\n"
   ]
  },
  {
   "cell_type": "code",
   "execution_count": 53,
   "metadata": {},
   "outputs": [
    {
     "data": {
      "text/plain": [
       "0    1354\n",
       "1      96\n",
       "Name: abnormal, dtype: int64"
      ]
     },
     "execution_count": 53,
     "metadata": {},
     "output_type": "execute_result"
    }
   ],
   "source": [
    "#calculate the baseline accuracy (% of the majority class)\n",
    "\n",
    "house['abnormal'].value_counts()"
   ]
  },
  {
   "cell_type": "markdown",
   "metadata": {},
   "source": [
    "<b> Baseline accuracy is 93.37% <b>"
   ]
  },
  {
   "cell_type": "code",
   "execution_count": 54,
   "metadata": {},
   "outputs": [],
   "source": [
    "#change the null values to something appropriate so they will be considered as a \"category\"\n",
    "\n",
    "house.fillna(\"None\",inplace=True)"
   ]
  },
  {
   "cell_type": "code",
   "execution_count": 55,
   "metadata": {},
   "outputs": [],
   "source": [
    "#We will look at all columns for this portion to determine which features predict the Abnormal category\n",
    "\n",
    "#run the dummy creation function on each of the columns in the dataset\n",
    "\n",
    "for f in house.columns:\n",
    "    house = create_dummy(f,house)"
   ]
  },
  {
   "cell_type": "code",
   "execution_count": 56,
   "metadata": {},
   "outputs": [],
   "source": [
    "#create more dummy variables where required (MSSubClass is int64, not an object and is a categorical variable)\n",
    "\n",
    "df_MSSub = pd.get_dummies(house['MSSubClass'])\n",
    "\n",
    "df_MSSub.columns = ['MSSub_' + str(col) for col in df_MSSub.columns]\n",
    "\n",
    "\n",
    "#drop one reference category\n",
    "\n",
    "df_MSSub.drop(['MSSub_20'],axis=1,inplace=True)\n",
    "\n",
    "# Join the dummy variables to the main dataframe\n",
    "house = pd.concat([house, df_MSSub], axis=1)\n",
    "\n",
    "\n",
    "#drop the original column that was converted to dummy variables\n",
    "\n",
    "house.drop(['MSSubClass'],axis=1,inplace=True)\n"
   ]
  },
  {
   "cell_type": "code",
   "execution_count": 57,
   "metadata": {},
   "outputs": [
    {
     "data": {
      "text/plain": [
       "abnormal            1.000000\n",
       "SaleTypeCOD         0.339439\n",
       "SaleTypeOth         0.171002\n",
       "Exterior1stStone    0.139574\n",
       "PoolQCEx            0.139574\n",
       "MSZoningRH          0.104631\n",
       "MasVnrArea237.0     0.098660\n",
       "MasVnrArea294.0     0.098660\n",
       "MasVnrArea366.0     0.098660\n",
       "LotFrontage160.0    0.098660\n",
       "Name: abnormal, dtype: float64"
      ]
     },
     "execution_count": 57,
     "metadata": {},
     "output_type": "execute_result"
    }
   ],
   "source": [
    "#look at the correlation coefficients to see if any of the features are strongly correlated with abnormal sale conditions\n",
    "\n",
    "#we'll use the top 10 most highly correlated variables as the features\n",
    "\n",
    "house.corr()['abnormal'].sort_values(ascending=False).head(10)"
   ]
  },
  {
   "cell_type": "code",
   "execution_count": 58,
   "metadata": {},
   "outputs": [
    {
     "name": "stdout",
     "output_type": "stream",
     "text": [
      "Optimization terminated successfully.\n",
      "         Current function value: 0.201447\n",
      "         Iterations: 50\n",
      "         Function evaluations: 51\n",
      "         Gradient evaluations: 51\n"
     ]
    },
    {
     "data": {
      "text/html": [
       "<table class=\"simpletable\">\n",
       "<caption>Logit Regression Results</caption>\n",
       "<tr>\n",
       "  <th>Dep. Variable:</th>     <td>abnormal</td>     <th>  No. Observations:  </th>  <td>  1450</td>  \n",
       "</tr>\n",
       "<tr>\n",
       "  <th>Model:</th>               <td>Logit</td>      <th>  Df Residuals:      </th>  <td>  1444</td>  \n",
       "</tr>\n",
       "<tr>\n",
       "  <th>Method:</th>               <td>MLE</td>       <th>  Df Model:          </th>  <td>     5</td>  \n",
       "</tr>\n",
       "<tr>\n",
       "  <th>Date:</th>          <td>Fri, 18 Jan 2019</td> <th>  Pseudo R-squ.:     </th>  <td>0.1734</td>  \n",
       "</tr>\n",
       "<tr>\n",
       "  <th>Time:</th>              <td>00:56:18</td>     <th>  Log-Likelihood:    </th> <td> -292.10</td> \n",
       "</tr>\n",
       "<tr>\n",
       "  <th>converged:</th>           <td>True</td>       <th>  LL-Null:           </th> <td> -353.39</td> \n",
       "</tr>\n",
       "<tr>\n",
       "  <th> </th>                      <td> </td>        <th>  LLR p-value:       </th> <td>8.922e-25</td>\n",
       "</tr>\n",
       "</table>\n",
       "<table class=\"simpletable\">\n",
       "<tr>\n",
       "          <td></td>            <th>coef</th>     <th>std err</th>      <th>z</th>      <th>P>|z|</th>  <th>[0.025</th>    <th>0.975]</th>  \n",
       "</tr>\n",
       "<tr>\n",
       "  <th>Intercept</th>        <td>   -3.0476</td> <td>    0.129</td> <td>  -23.634</td> <td> 0.000</td> <td>   -3.300</td> <td>   -2.795</td>\n",
       "</tr>\n",
       "<tr>\n",
       "  <th>SaleTypeCOD</th>      <td>    3.2118</td> <td>    0.345</td> <td>    9.322</td> <td> 0.000</td> <td>    2.537</td> <td>    3.887</td>\n",
       "</tr>\n",
       "<tr>\n",
       "  <th>SaleTypeOth</th>      <td>   17.4560</td> <td>  776.560</td> <td>    0.022</td> <td> 0.982</td> <td>-1504.574</td> <td> 1539.485</td>\n",
       "</tr>\n",
       "<tr>\n",
       "  <th>Exterior1stStone</th> <td>    8.9752</td> <td>   19.042</td> <td>    0.471</td> <td> 0.637</td> <td>  -28.346</td> <td>   46.296</td>\n",
       "</tr>\n",
       "<tr>\n",
       "  <th>PoolQCEx</th>         <td>   12.9742</td> <td>  101.164</td> <td>    0.128</td> <td> 0.898</td> <td> -185.304</td> <td>  211.252</td>\n",
       "</tr>\n",
       "<tr>\n",
       "  <th>MSZoningRH</th>       <td>    2.0683</td> <td>    0.585</td> <td>    3.536</td> <td> 0.000</td> <td>    0.922</td> <td>    3.215</td>\n",
       "</tr>\n",
       "</table>"
      ],
      "text/plain": [
       "<class 'statsmodels.iolib.summary.Summary'>\n",
       "\"\"\"\n",
       "                           Logit Regression Results                           \n",
       "==============================================================================\n",
       "Dep. Variable:               abnormal   No. Observations:                 1450\n",
       "Model:                          Logit   Df Residuals:                     1444\n",
       "Method:                           MLE   Df Model:                            5\n",
       "Date:                Fri, 18 Jan 2019   Pseudo R-squ.:                  0.1734\n",
       "Time:                        00:56:18   Log-Likelihood:                -292.10\n",
       "converged:                       True   LL-Null:                       -353.39\n",
       "                                        LLR p-value:                 8.922e-25\n",
       "====================================================================================\n",
       "                       coef    std err          z      P>|z|      [0.025      0.975]\n",
       "------------------------------------------------------------------------------------\n",
       "Intercept           -3.0476      0.129    -23.634      0.000      -3.300      -2.795\n",
       "SaleTypeCOD          3.2118      0.345      9.322      0.000       2.537       3.887\n",
       "SaleTypeOth         17.4560    776.560      0.022      0.982   -1504.574    1539.485\n",
       "Exterior1stStone     8.9752     19.042      0.471      0.637     -28.346      46.296\n",
       "PoolQCEx            12.9742    101.164      0.128      0.898    -185.304     211.252\n",
       "MSZoningRH           2.0683      0.585      3.536      0.000       0.922       3.215\n",
       "====================================================================================\n",
       "\"\"\""
      ]
     },
     "execution_count": 58,
     "metadata": {},
     "output_type": "execute_result"
    }
   ],
   "source": [
    "#Attempt logistic regression to do classification analysis using the 5 features with the highest correlation coefficients\n",
    "\n",
    "sm.logit(formula='abnormal ~ SaleTypeCOD + SaleTypeOth + Exterior1stStone + PoolQCEx + MSZoningRH',data=house).fit(maxiter=500,method='bfgs').summary()\n",
    "\n",
    "\n",
    "         "
   ]
  },
  {
   "cell_type": "code",
   "execution_count": 59,
   "metadata": {},
   "outputs": [
    {
     "name": "stderr",
     "output_type": "stream",
     "text": [
      "C:\\Users\\Kai Hee\\Anaconda3\\lib\\site-packages\\sklearn\\preprocessing\\data.py:617: DataConversionWarning: Data with input dtype uint8, int32, int64 were all converted to float64 by StandardScaler.\n",
      "  return self.partial_fit(X, y)\n",
      "C:\\Users\\Kai Hee\\Anaconda3\\lib\\site-packages\\sklearn\\base.py:462: DataConversionWarning: Data with input dtype uint8, int32, int64 were all converted to float64 by StandardScaler.\n",
      "  return self.fit(X, **fit_params).transform(X)\n",
      "C:\\Users\\Kai Hee\\Anaconda3\\lib\\site-packages\\sklearn\\preprocessing\\data.py:617: DataConversionWarning: Data with input dtype uint8, int32, int64 were all converted to float64 by StandardScaler.\n",
      "  return self.partial_fit(X, y)\n",
      "C:\\Users\\Kai Hee\\Anaconda3\\lib\\site-packages\\sklearn\\base.py:462: DataConversionWarning: Data with input dtype uint8, int32, int64 were all converted to float64 by StandardScaler.\n",
      "  return self.fit(X, **fit_params).transform(X)\n"
     ]
    }
   ],
   "source": [
    "#for cross validation\n",
    "#we manually split the dataset into training and test\n",
    "data_train = house[house['YrSold']<2010]\n",
    "\n",
    "data_test = house[house['YrSold']==2010]\n",
    "\n",
    "\n",
    "#our target variable is the remaining variance in price from the first model, thus we should subtract off the predicted price\n",
    "#from the first model to derive the residuals\n",
    "\n",
    "y_train = data_train.abnormal.values\n",
    "\n",
    "y_test = data_test.abnormal.values\n",
    "\n",
    "X_train = data_train.iloc[:,0:-1]\n",
    "\n",
    "X_test = data_test.iloc[:,0:-1]\n",
    "\n",
    "\n",
    "ss = StandardScaler()\n",
    "\n",
    "# Use the \"fit_transform\" function to standardize the X design matrix.\n",
    "Xs_train = ss.fit_transform(X_train)\n",
    "\n",
    "Xs_test = ss.fit_transform(X_test)"
   ]
  },
  {
   "cell_type": "markdown",
   "metadata": {},
   "source": [
    "<b> From the coefficients of the logistic regression and the p-values (where < 0.05), we see that Sale Type = COD and MSZoning = Residential High Density are positive predictors of abnormal sales. </b>"
   ]
  },
  {
   "cell_type": "code",
   "execution_count": 60,
   "metadata": {},
   "outputs": [
    {
     "name": "stdout",
     "output_type": "stream",
     "text": [
      "{1: array([[0.92307692, 0.92307692, 0.92307692, ..., 1.        , 1.        ,\n",
      "        1.        ],\n",
      "       [0.92307692, 0.92307692, 0.92307692, ..., 1.        , 1.        ,\n",
      "        1.        ],\n",
      "       [0.92307692, 0.92307692, 0.92307692, ..., 1.        , 1.        ,\n",
      "        1.        ],\n",
      "       ...,\n",
      "       [0.94      , 0.94      , 0.94      , ..., 1.        , 1.        ,\n",
      "        1.        ],\n",
      "       [0.94      , 0.94      , 0.94      , ..., 1.        , 1.        ,\n",
      "        1.        ],\n",
      "       [0.94      , 0.94      , 0.94      , ..., 1.        , 1.        ,\n",
      "        1.        ]])}\n"
     ]
    }
   ],
   "source": [
    "#let's run logistic regression with cross validation\n",
    "\n",
    "lr = LogisticRegressionCV(Cs=200, cv=25)\n",
    "lr.fit(Xs_train, y_train)\n",
    "\n",
    "print(lr.scores_)"
   ]
  },
  {
   "cell_type": "markdown",
   "metadata": {},
   "source": [
    "<b> Answer: </b>\n",
    "\n",
    "As there is severe class imbalance between the abnormal sales and the normal sales(all other categories), we should use some other performance measures to give more insight to the accuracy of the model such as using the confusion matrix, AUC, ROC and precision and recall."
   ]
  },
  {
   "cell_type": "markdown",
   "metadata": {},
   "source": [
    "<b> Calculate the predicted labels and predicted probabilities on the test set with the Ridge logistic regression </b>"
   ]
  },
  {
   "cell_type": "code",
   "execution_count": 61,
   "metadata": {},
   "outputs": [],
   "source": [
    "yhat = lr.predict(X_test)\n",
    "yhat_pp = lr.predict_proba(X_test)"
   ]
  },
  {
   "cell_type": "code",
   "execution_count": 62,
   "metadata": {},
   "outputs": [
    {
     "data": {
      "text/html": [
       "<div>\n",
       "<style scoped>\n",
       "    .dataframe tbody tr th:only-of-type {\n",
       "        vertical-align: middle;\n",
       "    }\n",
       "\n",
       "    .dataframe tbody tr th {\n",
       "        vertical-align: top;\n",
       "    }\n",
       "\n",
       "    .dataframe thead th {\n",
       "        text-align: right;\n",
       "    }\n",
       "</style>\n",
       "<table border=\"1\" class=\"dataframe\">\n",
       "  <thead>\n",
       "    <tr style=\"text-align: right;\">\n",
       "      <th></th>\n",
       "      <th>predicted_abnormal</th>\n",
       "      <th>predicted_normal</th>\n",
       "    </tr>\n",
       "  </thead>\n",
       "  <tbody>\n",
       "    <tr>\n",
       "      <th>is_abnormal</th>\n",
       "      <td>0</td>\n",
       "      <td>9</td>\n",
       "    </tr>\n",
       "    <tr>\n",
       "      <th>is_normal</th>\n",
       "      <td>0</td>\n",
       "      <td>163</td>\n",
       "    </tr>\n",
       "  </tbody>\n",
       "</table>\n",
       "</div>"
      ],
      "text/plain": [
       "             predicted_abnormal  predicted_normal\n",
       "is_abnormal                   0                 9\n",
       "is_normal                     0               163"
      ]
     },
     "execution_count": 62,
     "metadata": {},
     "output_type": "execute_result"
    }
   ],
   "source": [
    "#let's take a look at the confusion matrix for the logistic regression classifier\n",
    "\n",
    "conmat = np.array(confusion_matrix(y_test, yhat, labels=[1,0]))\n",
    "\n",
    "confusion = pd.DataFrame(conmat, index=['is_abnormal', 'is_normal'],\n",
    "                         columns=['predicted_abnormal','predicted_normal'])\n",
    "confusion"
   ]
  },
  {
   "cell_type": "code",
   "execution_count": 63,
   "metadata": {},
   "outputs": [
    {
     "data": {
      "image/png": "[encoded data removed]",
      "text/plain": [
       "<Figure size 576x576 with 1 Axes>"
      ]
     },
     "metadata": {
      "image/png": {
       "height": 505,
       "width": 509
      },
      "needs_background": "light"
     },
     "output_type": "display_data"
    }
   ],
   "source": [
    "# predictions and pred prob.\n",
    "yhat = lr.predict(X_test)\n",
    "yhat_pp = lr.predict_proba(X_test)\n",
    "\n",
    "fpr, tpr, _ = roc_curve(y_test, yhat_pp[:,1])\n",
    "roc_auc = auc(fpr, tpr)\n",
    "\n",
    "plt.figure(figsize=[8,8])\n",
    "plt.plot(fpr, tpr, label='ROC curve (area = %0.2f)' % roc_auc, linewidth=4)\n",
    "plt.plot([0, 1], [0, 1], 'k--', linewidth=4)\n",
    "plt.xlim([-0.05, 1.0])\n",
    "plt.ylim([-0.05, 1.05])\n",
    "plt.xlabel('False Positive Rate', fontsize=18)\n",
    "plt.ylabel('True Positive Rate', fontsize=18)\n",
    "plt.title('Receiver operating characteristic: is abnormal', fontsize=18)\n",
    "plt.legend(loc=\"lower right\")\n",
    "plt.show()"
   ]
  }
 ],
 "metadata": {
  "kernelspec": {
   "display_name": "Python 3",
   "language": "python",
   "name": "python3"
  },
  "language_info": {
   "codemirror_mode": {
    "name": "ipython",
    "version": 3
   },
   "file_extension": ".py",
   "mimetype": "text/x-python",
   "name": "python",
   "nbconvert_exporter": "python",
   "pygments_lexer": "ipython3",
   "version": "3.6.7"
  }
 },
 "nbformat": 4,
 "nbformat_minor": 2
}
